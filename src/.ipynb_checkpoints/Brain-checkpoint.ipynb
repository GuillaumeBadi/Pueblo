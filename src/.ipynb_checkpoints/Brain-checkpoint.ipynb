{
 "cells": [
  {
   "cell_type": "code",
   "execution_count": 606,
   "metadata": {
    "collapsed": false,
    "scrolled": false
   },
   "outputs": [],
   "source": [
    "\n",
    "import Data.Map (Map)\n",
    "import Data.Maybe\n",
    "import Data.List\n",
    "import Debug.Trace\n",
    "import qualified Data.Map.Strict as Map\n",
    "\n",
    "{- An Expression is either:\n",
    "      a Constant with a name (a String) TODO: a constant can be any type\n",
    "      a Variable with a name (a String)\n",
    "      a List of expressions -}\n",
    "data Expression\n",
    "  = Constant String\n",
    "  | Var String\n",
    "  | Expression :- [Expression]\n",
    "  | List [Expression]\n",
    "  deriving (Show, Eq)\n",
    "\n",
    "infix 4 :-\n",
    "\n",
    "type Fact = Expression\n",
    "type Constraint = Expression\n",
    "type Query = Expression\n",
    "type Binding = Map String Expression\n",
    "\n",
    "-- returns True if the parameter is a Constant\n",
    "isConstant :: Expression -> Bool\n",
    "isConstant (Constant _) = True\n",
    "isConstant _            = False\n",
    "\n",
    "-- returns True if the parameter is a Variable\n",
    "isVar :: Expression -> Bool\n",
    "isVar (Var _) = True\n",
    "isVar _       = False\n",
    "\n",
    "-- returns True if the parameter is a Constraint\n",
    "isConstraint :: Expression -> Bool\n",
    "isConstraint (_ :- _) = True\n",
    "isConstraint _       = False\n",
    "\n",
    "-- returns True if the parameter is a List\n",
    "isList :: Expression -> Bool\n",
    "isList (List _) = True\n",
    "isList _        = False\n",
    "\n",
    "{- Takes a Map such as [(X, Constant value)] and an expression\n",
    "   and returns the expression with variables\n",
    "   replaced by elements of the Map -}\n",
    "substitute :: Binding -> Expression -> Expression\n",
    "substitute m c | isConstant c = c\n",
    "substitute m (List l)         = List $ map (substitute m) l\n",
    "substitute m v@(Var name)     = fromMaybe v (Map.lookup name m)\n",
    "\n",
    "{- Takes a Variable and an Expression, and returns:\n",
    "        True is the variable occurs in the Expression\n",
    "        otherwise False-}\n",
    "occurs :: Expression -> Expression -> Bool\n",
    "occurs v        (Constant _) = False\n",
    "occurs (Var v1) (Var v2)     = v1 == v2\n",
    "occurs var      (List l)     = any (occurs var) l\n",
    "\n",
    "{- We want an algorithm that can take two expressions:\n",
    "    e1 f(g(a)) + X\n",
    "    e2 f(Y) + 3\n",
    "  And returns the value of Y and X, here Y: g(a) and X: 3\n",
    "\n",
    "  If the Unification fails, we return Nothing\n",
    "  Otherwise, a map with variables values :\n",
    "    [(X, Constant 3), (Y, List g(a))] -}\n",
    "unify :: Expression -> Expression -> Maybe Binding\n",
    "\n",
    "{- If both expressions are Constants:\n",
    "    We cannot unify them if they are different:\n",
    "      i.e. e1: 2, e2: 3 -> Nothing\n",
    "    We can unify them with an empty Map is they are the same:\n",
    "      i.e. e1: 2, e2: 2 -}\n",
    "unify (Constant x) (Constant y) = if x == y then Just Map.empty else Nothing\n",
    "\n",
    "{- If one expression is a Variable:\n",
    "      if the other one is a List, and that list contains the variable,\n",
    "        that would recur forever, so we fail\n",
    "        i.e. e1: x, e2: f(x) -> x: f(f(f(f(f(f(f(...x)))))))\n",
    "      else we can set the variable to the expression -}\n",
    "\n",
    "-- The variable is passed first\n",
    "unify var@(Var v) e2\n",
    "  | isList e2 && occurs var e2 = Nothing\n",
    "  | otherwise = Just (Map.insert v e2 Map.empty)\n",
    "\n",
    "-- The Variable is passed second\n",
    "unify e1 var@(Var v)\n",
    "  | isList e1 && occurs var e1 = Nothing\n",
    "  | otherwise = Just (Map.insert v e1 Map.empty)\n",
    "\n",
    "-- Now if one of the expression is not a List, it should fail,\n",
    "-- Technically, this will not appear -}\n",
    "unify e1 e2\n",
    "  | (not . isList $ e1) &&\n",
    "    (not . isList $ e2)\n",
    "    = Nothing\n",
    "\n",
    "-- If only one expression is empty, it means they\n",
    "-- do not share the same length -> Nothing\n",
    "-- If they are both empty, return an empty Map\n",
    "unify l1@(List e1) l2@(List e2)\n",
    "  | null e1 || null e2 = if null e1 /= null e2\n",
    "                         then Nothing\n",
    "                         else Just Map.empty\n",
    "\n",
    "{- If we have two non-empty lists\n",
    "    we unify the first element of both lists recursively.\n",
    "    Then we try the new substitution with the rest of both expression\n",
    "    and backtrack if further unification fails -}\n",
    "unify (List e1@(h1:t1)) (List e2@(h2:t2))\n",
    "  -- We unify the first parts of both lists\n",
    "  = case unify (h1 :: Expression) (h2 :: Expression) of\n",
    "         Nothing    -> Nothing\n",
    "        --  With the returned bindings:\n",
    "         Just subs1 -> do\n",
    "                       -- We apply these bindings to the rest of both expression\n",
    "                       let te1 = substitute subs1 (List t1)\n",
    "                       let te2 = substitute subs1 (List t2)\n",
    "                       -- We try to unify them\n",
    "                       case unify te1 te2 of\n",
    "                            -- if it failed, we can backtrack\n",
    "                            Nothing    -> Nothing\n",
    "                            -- If it succeeded, the bindings were correct,\n",
    "                            -- So we can merge them\n",
    "                            Just subs2 -> Just (Map.union subs1 subs2)\n",
    "\n",
    "expressionToString :: Expression -> String\n",
    "expressionToString (Constant x) = x\n",
    "expressionToString (Var x) = x ++ \"?\"\n",
    "expressionToString (List (Constant x : xs))\n",
    "  = x ++ \" \" ++ unwords (map expressionToString xs)\n",
    "\n",
    "bindingToString b\n",
    "  = intercalate \", \" $\n",
    "    map (\\(k, v) -> k ++ \": \" ++ expressionToString v) (Map.assocs b)\n",
    "    \n",
    "constraintsToString :: Constraint -> String\n",
    "constraintsToString (c :- l) = (expressionToString c) ++ \" :- \" ++ (intercalate \", \" $ map expressionToString l)\n",
    "\n",
    "solve :: [Expression] -> Expression -> Maybe [Binding]\n",
    "solve facts query = case mapMaybe (unify query) facts of\n",
    "                         [] -> Nothing\n",
    "                         bindings -> Just bindings\n",
    "\n",
    "solveWithConstraints :: [Fact] -> Query -> Constraint -> Maybe [Binding]\n",
    "solveWithConstraints fs q f@(c :- l) = \n",
    "\n",
    "solve :: [Expression] -> Expression -> Maybe [Binding]\n",
    "solve fs query = case mapMaybe process fs of\n",
    "                      [] -> Nothing\n",
    "                      bindings -> Just bindings\n",
    "                 where process = \\f -> if isConstraint f\n",
    "                                       then solveWithConstraints fs query f\n"
   ]
  },
  {
   "cell_type": "code",
   "execution_count": 607,
   "metadata": {
    "collapsed": true
   },
   "outputs": [],
   "source": [
    "\n",
    "-- Predicates\n",
    "likes :: Expression -> Expression -> Expression\n",
    "likes x y = List [ Constant \"likes\", x, y ]\n",
    "\n",
    "isNice :: Expression -> Expression\n",
    "isNice x = List [ Constant \"isNice\", x ]\n",
    "\n",
    "-- Atoms\n",
    "romeo = Constant \"romeo\"\n",
    "juliet = Constant \"juliet\"\n",
    "bob = Constant \"bob\"\n",
    "\n",
    "-- Vars\n",
    "who = Var \"who\"\n",
    "y = Var \"y\"\n",
    "x = Var \"x\"\n",
    "z = Var \"z\"\n",
    "\n",
    "-- Facts\n",
    "\n",
    "facts =\n",
    "  [ likes romeo juliet\n",
    "  , likes bob juliet\n",
    "  , isNice juliet\n",
    "  , isNice romeo ]\n",
    "\n",
    "-- Query\n",
    "query = likes juliet who\n",
    "\n",
    "-- Clause\n",
    "clause = likes x y\n",
    "\n",
    "-- Constraint\n",
    "constraints = [ isNice y, likes y z, isNice z ]\n",
    "\n",
    "constraint = likes x y :- [ isNice y, likes y z, isNice z ]"
   ]
  },
  {
   "cell_type": "code",
   "execution_count": 608,
   "metadata": {
    "collapsed": true
   },
   "outputs": [],
   "source": [
    "substituteAll :: [Expression] -> Binding -> [Expression]\n",
    "substituteAll l b = map (substitute b) l"
   ]
  },
  {
   "cell_type": "code",
   "execution_count": 609,
   "metadata": {
    "collapsed": false
   },
   "outputs": [],
   "source": [
    "prepareConstraints :: Constraint -> Expression -> Maybe Constraint\n",
    "prepareConstraints (c :- list) q = case unify c q of\n",
    "                                          Nothing -> Nothing\n",
    "                                          Just b -> Just $ (substitute b c) :- map (substitute b) list"
   ]
  },
  {
   "cell_type": "code",
   "execution_count": 610,
   "metadata": {
    "collapsed": false
   },
   "outputs": [
    {
     "data": {
      "text/plain": [
       "\"likes juliet who? :- isNice who?, likes who? z?, isNice z?\""
      ]
     },
     "metadata": {},
     "output_type": "display_data"
    }
   ],
   "source": [
    "constraintsToString $ fromMaybe (error \"did not match\") (prepareConstraints constraint query)"
   ]
  },
  {
   "cell_type": "code",
   "execution_count": null,
   "metadata": {
    "collapsed": false
   },
   "outputs": [],
   "source": []
  },
  {
   "cell_type": "code",
   "execution_count": 618,
   "metadata": {
    "collapsed": false
   },
   "outputs": [],
   "source": [
    "solveConstraints :: [Fact] -> [Expression] -> Expression -> Maybe [Binding]\n",
    "solveConstraints fs [] e = Just []\n",
    "solveConstraints _ (x:_) e | x == e = Just []\n",
    "solveConstraints fs (x:xs) e = case solve fs x of\n",
    "                                    Nothing -> Nothing\n",
    "                                    Just bindings -> do\n",
    "                                                     let branches = zip bindings (map (substituteAll xs) bindings)\n",
    "                                                     let tests = mapMaybe testBranch branches\n",
    "                                                     if null tests then Nothing else Just $ concat tests\n",
    "                                    where testBranch = \\(bs, branch) -> case solveConstraints fs branch e of\n",
    "                                                                               Nothing -> Nothing\n",
    "                                                                               Just res -> Just (bs : res)\n",
    "                                                                              "
   ]
  },
  {
   "cell_type": "code",
   "execution_count": 619,
   "metadata": {
    "collapsed": true
   },
   "outputs": [],
   "source": [
    "bindingsToString :: [Binding] -> String\n",
    "bindingsToString b = intercalate \", \" $ map (\\x -> \"(\" ++ bindingToString x ++ \")\") b"
   ]
  },
  {
   "cell_type": "code",
   "execution_count": 620,
   "metadata": {
    "collapsed": false
   },
   "outputs": [
    {
     "data": {
      "text/html": [
       "<style>/* Styles used for the Hoogle display in the pager */\n",
       ".hoogle-doc {\n",
       "display: block;\n",
       "padding-bottom: 1.3em;\n",
       "padding-left: 0.4em;\n",
       "}\n",
       ".hoogle-code {\n",
       "display: block;\n",
       "font-family: monospace;\n",
       "white-space: pre;\n",
       "}\n",
       ".hoogle-text {\n",
       "display: block;\n",
       "}\n",
       ".hoogle-name {\n",
       "color: green;\n",
       "font-weight: bold;\n",
       "}\n",
       ".hoogle-head {\n",
       "font-weight: bold;\n",
       "}\n",
       ".hoogle-sub {\n",
       "display: block;\n",
       "margin-left: 0.4em;\n",
       "}\n",
       ".hoogle-package {\n",
       "font-weight: bold;\n",
       "font-style: italic;\n",
       "}\n",
       ".hoogle-module {\n",
       "font-weight: bold;\n",
       "}\n",
       ".hoogle-class {\n",
       "font-weight: bold;\n",
       "}\n",
       ".get-type {\n",
       "color: green;\n",
       "font-weight: bold;\n",
       "font-family: monospace;\n",
       "display: block;\n",
       "white-space: pre-wrap;\n",
       "}\n",
       ".show-type {\n",
       "color: green;\n",
       "font-weight: bold;\n",
       "font-family: monospace;\n",
       "margin-left: 1em;\n",
       "}\n",
       ".mono {\n",
       "font-family: monospace;\n",
       "display: block;\n",
       "}\n",
       ".err-msg {\n",
       "color: red;\n",
       "font-style: italic;\n",
       "font-family: monospace;\n",
       "white-space: pre;\n",
       "display: block;\n",
       "}\n",
       "#unshowable {\n",
       "color: red;\n",
       "font-weight: bold;\n",
       "}\n",
       ".err-msg.in.collapse {\n",
       "padding-top: 0.7em;\n",
       "}\n",
       ".highlight-code {\n",
       "white-space: pre;\n",
       "font-family: monospace;\n",
       "}\n",
       ".suggestion-warning { \n",
       "font-weight: bold;\n",
       "color: rgb(200, 130, 0);\n",
       "}\n",
       ".suggestion-error { \n",
       "font-weight: bold;\n",
       "color: red;\n",
       "}\n",
       ".suggestion-name {\n",
       "font-weight: bold;\n",
       "}\n",
       "</style><div class='collapse-group'><span class='btn btn-default' href='#' id='unshowable'>Unshowable:<span class='show-type'>Expression -> Maybe [Binding])) (maybe you haven't applied enough arguments to a function</span></span><span class='err-msg collapse'>No instance for (Show (Expression -&gt; Maybe [Binding]))<br/>  (maybe you haven't applied enough arguments to a function?)<br/>  arising from a use of ‘print’<br/>In a stmt of an interactive GHCi command: print it</span></div><script>$('#unshowable').on('click', function(e) {\n",
       "    e.preventDefault();\n",
       "    var $this = $(this);\n",
       "    var $collapse = $this.closest('.collapse-group').find('.err-msg');\n",
       "    $collapse.collapse('toggle');\n",
       "});\n",
       "</script>"
      ],
      "text/plain": [
       "No instance for (Show (Expression -> Maybe [Binding]))\n",
       "  (maybe you haven't applied enough arguments to a function?)\n",
       "  arising from a use of ‘print’\n",
       "In a stmt of an interactive GHCi command: print it"
      ]
     },
     "metadata": {},
     "output_type": "display_data"
    }
   ],
   "source": [
    "\n",
    "testBindings = Map.fromList [(\"x\", juliet), (\"y\", who)]\n",
    "\n",
    "solveConstraints facts constraints"
   ]
  },
  {
   "cell_type": "code",
   "execution_count": null,
   "metadata": {
    "collapsed": true
   },
   "outputs": [],
   "source": []
  },
  {
   "cell_type": "code",
   "execution_count": null,
   "metadata": {
    "collapsed": true
   },
   "outputs": [],
   "source": []
  },
  {
   "cell_type": "code",
   "execution_count": null,
   "metadata": {
    "collapsed": true
   },
   "outputs": [],
   "source": []
  }
 ],
 "metadata": {
  "kernelspec": {
   "display_name": "Haskell",
   "language": "haskell",
   "name": "haskell"
  },
  "language_info": {
   "codemirror_mode": "ihaskell",
   "file_extension": ".hs",
   "name": "haskell",
   "version": "7.10.3"
  }
 },
 "nbformat": 4,
 "nbformat_minor": 0
}
